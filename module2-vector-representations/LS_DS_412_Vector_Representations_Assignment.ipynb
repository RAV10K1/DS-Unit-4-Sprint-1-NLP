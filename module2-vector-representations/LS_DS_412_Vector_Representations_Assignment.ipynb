{
 "cells": [
  {
   "cell_type": "markdown",
   "metadata": {},
   "source": [
    "<img align=\"left\" src=\"https://lever-client-logos.s3.amazonaws.com/864372b1-534c-480e-acd5-9711f850815c-1524247202159.png\" width=200>\n",
    "<br></br>\n",
    "\n",
    "# Vector Representations\n",
    "## *Data Science Unit 4 Sprint 2 Assignment 2*"
   ]
  },
  {
   "cell_type": "code",
   "execution_count": 1,
   "metadata": {
    "colab": {
     "base_uri": "https://localhost:8080/",
     "height": 159
    },
    "colab_type": "code",
    "id": "hyj-f9FDcVFp",
    "outputId": "5dd045fe-6e4c-458c-e2fc-253c3da9c805"
   },
   "outputs": [],
   "source": [
    "import re\n",
    "import string\n",
    "\n",
    "from sklearn.feature_extraction.text import CountVectorizer, TfidfVectorizer\n",
    "import matplotlib.pyplot as plt\n",
    "import pandas as pd\n",
    "import numpy as np\n",
    "import spacy\n",
    "\n",
    "from bs4 import BeautifulSoup"
   ]
  },
  {
   "cell_type": "code",
   "execution_count": 22,
   "metadata": {},
   "outputs": [
    {
     "name": "stdout",
     "output_type": "stream",
     "text": [
      "Collecting package metadata (current_repodata.json): ...working... done\n",
      "Solving environment: ...working... done\n",
      "\n",
      "\n",
      "Note: you may need to restart the kernel to use updated packages.\n"
     ]
    },
    {
     "name": "stderr",
     "output_type": "stream",
     "text": [
      "\n",
      "\n",
      "==> WARNING: A newer version of conda exists. <==\n",
      "  current version: 4.8.2\n",
      "  latest version: 4.8.4\n",
      "\n",
      "Please update conda by running\n",
      "\n",
      "    $ conda update -n base -c defaults conda\n",
      "\n",
      "\n"
     ]
    },
    {
     "name": "stdout",
     "output_type": "stream",
     "text": [
      "# All requested packages already installed.\n",
      "\n"
     ]
    }
   ],
   "source": [
    "conda install lxml"
   ]
  },
  {
   "cell_type": "markdown",
   "metadata": {
    "colab_type": "text",
    "id": "M7bcmqfGXrFG"
   },
   "source": [
    "## 1) *Clean:* Job Listings from indeed.com that contain the title \"Data Scientist\" \n",
    "\n",
    "You have `job_listings.csv` in the data folder for this module. The text data in the description column is still messy - full of html tags. Use the [BeautifulSoup](https://www.crummy.com/software/BeautifulSoup/bs4/doc/) library to clean up this column. You will need to read through the documentation to accomplish this task. "
   ]
  },
  {
   "cell_type": "code",
   "execution_count": 2,
   "metadata": {},
   "outputs": [
    {
     "data": {
      "text/html": [
       "<div>\n",
       "<style scoped>\n",
       "    .dataframe tbody tr th:only-of-type {\n",
       "        vertical-align: middle;\n",
       "    }\n",
       "\n",
       "    .dataframe tbody tr th {\n",
       "        vertical-align: top;\n",
       "    }\n",
       "\n",
       "    .dataframe thead th {\n",
       "        text-align: right;\n",
       "    }\n",
       "</style>\n",
       "<table border=\"1\" class=\"dataframe\">\n",
       "  <thead>\n",
       "    <tr style=\"text-align: right;\">\n",
       "      <th></th>\n",
       "      <th>Unnamed: 0</th>\n",
       "      <th>description</th>\n",
       "      <th>title</th>\n",
       "    </tr>\n",
       "  </thead>\n",
       "  <tbody>\n",
       "    <tr>\n",
       "      <th>0</th>\n",
       "      <td>0</td>\n",
       "      <td>b\"&lt;div&gt;&lt;div&gt;Job Requirements:&lt;/div&gt;&lt;ul&gt;&lt;li&gt;&lt;p&gt;...</td>\n",
       "      <td>Data scientist</td>\n",
       "    </tr>\n",
       "    <tr>\n",
       "      <th>1</th>\n",
       "      <td>1</td>\n",
       "      <td>b'&lt;div&gt;Job Description&lt;br/&gt;\\n&lt;br/&gt;\\n&lt;p&gt;As a Da...</td>\n",
       "      <td>Data Scientist I</td>\n",
       "    </tr>\n",
       "    <tr>\n",
       "      <th>2</th>\n",
       "      <td>2</td>\n",
       "      <td>b'&lt;div&gt;&lt;p&gt;As a Data Scientist you will be work...</td>\n",
       "      <td>Data Scientist - Entry Level</td>\n",
       "    </tr>\n",
       "    <tr>\n",
       "      <th>3</th>\n",
       "      <td>3</td>\n",
       "      <td>b'&lt;div class=\"jobsearch-JobMetadataHeader icl-...</td>\n",
       "      <td>Data Scientist</td>\n",
       "    </tr>\n",
       "    <tr>\n",
       "      <th>4</th>\n",
       "      <td>4</td>\n",
       "      <td>b'&lt;ul&gt;&lt;li&gt;Location: USA \\xe2\\x80\\x93 multiple ...</td>\n",
       "      <td>Data Scientist</td>\n",
       "    </tr>\n",
       "  </tbody>\n",
       "</table>\n",
       "</div>"
      ],
      "text/plain": [
       "   Unnamed: 0                                        description  \\\n",
       "0           0  b\"<div><div>Job Requirements:</div><ul><li><p>...   \n",
       "1           1  b'<div>Job Description<br/>\\n<br/>\\n<p>As a Da...   \n",
       "2           2  b'<div><p>As a Data Scientist you will be work...   \n",
       "3           3  b'<div class=\"jobsearch-JobMetadataHeader icl-...   \n",
       "4           4  b'<ul><li>Location: USA \\xe2\\x80\\x93 multiple ...   \n",
       "\n",
       "                          title  \n",
       "0               Data scientist   \n",
       "1              Data Scientist I  \n",
       "2  Data Scientist - Entry Level  \n",
       "3                Data Scientist  \n",
       "4                Data Scientist  "
      ]
     },
     "execution_count": 2,
     "metadata": {},
     "output_type": "execute_result"
    }
   ],
   "source": [
    "url = 'C:\\\\Users\\\\Ravi\\\\Documents\\\\Lambda School\\\\DS-Unit-4-Sprint-1-NLP\\\\module2-vector-representations\\\\data\\\\job_listings.csv'\n",
    "\n",
    "df = pd.read_csv(url)\n",
    "df.head()"
   ]
  },
  {
   "cell_type": "code",
   "execution_count": 3,
   "metadata": {},
   "outputs": [
    {
     "data": {
      "text/html": [
       "<div>\n",
       "<style scoped>\n",
       "    .dataframe tbody tr th:only-of-type {\n",
       "        vertical-align: middle;\n",
       "    }\n",
       "\n",
       "    .dataframe tbody tr th {\n",
       "        vertical-align: top;\n",
       "    }\n",
       "\n",
       "    .dataframe thead th {\n",
       "        text-align: right;\n",
       "    }\n",
       "</style>\n",
       "<table border=\"1\" class=\"dataframe\">\n",
       "  <thead>\n",
       "    <tr style=\"text-align: right;\">\n",
       "      <th></th>\n",
       "      <th>description</th>\n",
       "      <th>title</th>\n",
       "    </tr>\n",
       "  </thead>\n",
       "  <tbody>\n",
       "    <tr>\n",
       "      <th>0</th>\n",
       "      <td>b\"&lt;div&gt;&lt;div&gt;Job Requirements:&lt;/div&gt;&lt;ul&gt;&lt;li&gt;&lt;p&gt;...</td>\n",
       "      <td>Data scientist</td>\n",
       "    </tr>\n",
       "    <tr>\n",
       "      <th>1</th>\n",
       "      <td>b'&lt;div&gt;Job Description&lt;br/&gt;\\n&lt;br/&gt;\\n&lt;p&gt;As a Da...</td>\n",
       "      <td>Data Scientist I</td>\n",
       "    </tr>\n",
       "    <tr>\n",
       "      <th>2</th>\n",
       "      <td>b'&lt;div&gt;&lt;p&gt;As a Data Scientist you will be work...</td>\n",
       "      <td>Data Scientist - Entry Level</td>\n",
       "    </tr>\n",
       "    <tr>\n",
       "      <th>3</th>\n",
       "      <td>b'&lt;div class=\"jobsearch-JobMetadataHeader icl-...</td>\n",
       "      <td>Data Scientist</td>\n",
       "    </tr>\n",
       "    <tr>\n",
       "      <th>4</th>\n",
       "      <td>b'&lt;ul&gt;&lt;li&gt;Location: USA \\xe2\\x80\\x93 multiple ...</td>\n",
       "      <td>Data Scientist</td>\n",
       "    </tr>\n",
       "  </tbody>\n",
       "</table>\n",
       "</div>"
      ],
      "text/plain": [
       "                                         description  \\\n",
       "0  b\"<div><div>Job Requirements:</div><ul><li><p>...   \n",
       "1  b'<div>Job Description<br/>\\n<br/>\\n<p>As a Da...   \n",
       "2  b'<div><p>As a Data Scientist you will be work...   \n",
       "3  b'<div class=\"jobsearch-JobMetadataHeader icl-...   \n",
       "4  b'<ul><li>Location: USA \\xe2\\x80\\x93 multiple ...   \n",
       "\n",
       "                          title  \n",
       "0               Data scientist   \n",
       "1              Data Scientist I  \n",
       "2  Data Scientist - Entry Level  \n",
       "3                Data Scientist  \n",
       "4                Data Scientist  "
      ]
     },
     "execution_count": 3,
     "metadata": {},
     "output_type": "execute_result"
    }
   ],
   "source": [
    "df = df.drop('Unnamed: 0', axis=1)\n",
    "df.head()"
   ]
  },
  {
   "cell_type": "code",
   "execution_count": 4,
   "metadata": {},
   "outputs": [],
   "source": [
    "# Taking a look at the Beautiful Soup object\n",
    "from bs4 import BeautifulSoup\n",
    "import requests\n",
    "\n",
    "object = BeautifulSoup(df['description'][0], 'lxml')"
   ]
  },
  {
   "cell_type": "code",
   "execution_count": 5,
   "metadata": {},
   "outputs": [
    {
     "name": "stdout",
     "output_type": "stream",
     "text": [
      "b\"Job Requirements:\\nConceptual understanding in Machine Learning models like Nai\\xc2\\xa8ve Bayes, K-Means, SVM, Apriori, Linear/ Logistic Regression, Neural, Random Forests, Decision Trees, K-NN along with hands-on experience in at least 2 of them\\nIntermediate to expert level coding skills in Python/R. (Ability to write functions, clean and efficient data manipulation are mandatory for this role)\\nExposure to packages like NumPy, SciPy, Pandas, Matplotlib etc in Python or GGPlot2, dplyr, tidyR in R\\nAbility to communicate Model findings to both Technical and Non-Technical stake holders\\nHands on experience in SQL/Hive or similar programming language\\nMust show past work via GitHub, Kaggle or any other published article\\nMaster's degree in Statistics/Mathematics/Computer Science or any other quant specific field.\\nApply Now\"\n"
     ]
    }
   ],
   "source": [
    "print(object.get_text())"
   ]
  },
  {
   "cell_type": "code",
   "execution_count": 6,
   "metadata": {},
   "outputs": [],
   "source": [
    "# Creating new column in Data Frame with plain text\n",
    "\n",
    "df['desc'] = [BeautifulSoup(text, 'lxml').get_text() for text in df['description']]"
   ]
  },
  {
   "cell_type": "code",
   "execution_count": 7,
   "metadata": {},
   "outputs": [
    {
     "data": {
      "text/html": [
       "<div>\n",
       "<style scoped>\n",
       "    .dataframe tbody tr th:only-of-type {\n",
       "        vertical-align: middle;\n",
       "    }\n",
       "\n",
       "    .dataframe tbody tr th {\n",
       "        vertical-align: top;\n",
       "    }\n",
       "\n",
       "    .dataframe thead th {\n",
       "        text-align: right;\n",
       "    }\n",
       "</style>\n",
       "<table border=\"1\" class=\"dataframe\">\n",
       "  <thead>\n",
       "    <tr style=\"text-align: right;\">\n",
       "      <th></th>\n",
       "      <th>description</th>\n",
       "      <th>title</th>\n",
       "      <th>desc</th>\n",
       "    </tr>\n",
       "  </thead>\n",
       "  <tbody>\n",
       "    <tr>\n",
       "      <th>0</th>\n",
       "      <td>b\"&lt;div&gt;&lt;div&gt;Job Requirements:&lt;/div&gt;&lt;ul&gt;&lt;li&gt;&lt;p&gt;...</td>\n",
       "      <td>Data scientist</td>\n",
       "      <td>b\"Job Requirements:\\nConceptual understanding ...</td>\n",
       "    </tr>\n",
       "    <tr>\n",
       "      <th>1</th>\n",
       "      <td>b'&lt;div&gt;Job Description&lt;br/&gt;\\n&lt;br/&gt;\\n&lt;p&gt;As a Da...</td>\n",
       "      <td>Data Scientist I</td>\n",
       "      <td>b'Job Description\\n\\nAs a Data Scientist 1, yo...</td>\n",
       "    </tr>\n",
       "    <tr>\n",
       "      <th>2</th>\n",
       "      <td>b'&lt;div&gt;&lt;p&gt;As a Data Scientist you will be work...</td>\n",
       "      <td>Data Scientist - Entry Level</td>\n",
       "      <td>b'As a Data Scientist you will be working on c...</td>\n",
       "    </tr>\n",
       "    <tr>\n",
       "      <th>3</th>\n",
       "      <td>b'&lt;div class=\"jobsearch-JobMetadataHeader icl-...</td>\n",
       "      <td>Data Scientist</td>\n",
       "      <td>b'$4,969 - $6,756 a monthContractUnder the gen...</td>\n",
       "    </tr>\n",
       "    <tr>\n",
       "      <th>4</th>\n",
       "      <td>b'&lt;ul&gt;&lt;li&gt;Location: USA \\xe2\\x80\\x93 multiple ...</td>\n",
       "      <td>Data Scientist</td>\n",
       "      <td>b'Location: USA \\xe2\\x80\\x93 multiple location...</td>\n",
       "    </tr>\n",
       "  </tbody>\n",
       "</table>\n",
       "</div>"
      ],
      "text/plain": [
       "                                         description  \\\n",
       "0  b\"<div><div>Job Requirements:</div><ul><li><p>...   \n",
       "1  b'<div>Job Description<br/>\\n<br/>\\n<p>As a Da...   \n",
       "2  b'<div><p>As a Data Scientist you will be work...   \n",
       "3  b'<div class=\"jobsearch-JobMetadataHeader icl-...   \n",
       "4  b'<ul><li>Location: USA \\xe2\\x80\\x93 multiple ...   \n",
       "\n",
       "                          title  \\\n",
       "0               Data scientist    \n",
       "1              Data Scientist I   \n",
       "2  Data Scientist - Entry Level   \n",
       "3                Data Scientist   \n",
       "4                Data Scientist   \n",
       "\n",
       "                                                desc  \n",
       "0  b\"Job Requirements:\\nConceptual understanding ...  \n",
       "1  b'Job Description\\n\\nAs a Data Scientist 1, yo...  \n",
       "2  b'As a Data Scientist you will be working on c...  \n",
       "3  b'$4,969 - $6,756 a monthContractUnder the gen...  \n",
       "4  b'Location: USA \\xe2\\x80\\x93 multiple location...  "
      ]
     },
     "execution_count": 7,
     "metadata": {},
     "output_type": "execute_result"
    }
   ],
   "source": [
    "df.head()"
   ]
  },
  {
   "cell_type": "code",
   "execution_count": null,
   "metadata": {},
   "outputs": [],
   "source": []
  },
  {
   "cell_type": "code",
   "execution_count": 17,
   "metadata": {},
   "outputs": [],
   "source": [
    "def cleaner(text):\n",
    "\n",
    "    cleaned = re.sub('[^a-zA-Z0-9 ]','', text)\n",
    "    \n",
    "    return cleaned"
   ]
  },
  {
   "cell_type": "code",
   "execution_count": 18,
   "metadata": {},
   "outputs": [],
   "source": [
    "df['desc1'] = df['desc'].apply(cleaner)"
   ]
  },
  {
   "cell_type": "code",
   "execution_count": 19,
   "metadata": {},
   "outputs": [
    {
     "data": {
      "text/html": [
       "<div>\n",
       "<style scoped>\n",
       "    .dataframe tbody tr th:only-of-type {\n",
       "        vertical-align: middle;\n",
       "    }\n",
       "\n",
       "    .dataframe tbody tr th {\n",
       "        vertical-align: top;\n",
       "    }\n",
       "\n",
       "    .dataframe thead th {\n",
       "        text-align: right;\n",
       "    }\n",
       "</style>\n",
       "<table border=\"1\" class=\"dataframe\">\n",
       "  <thead>\n",
       "    <tr style=\"text-align: right;\">\n",
       "      <th></th>\n",
       "      <th>description</th>\n",
       "      <th>title</th>\n",
       "      <th>desc</th>\n",
       "      <th>desc1</th>\n",
       "    </tr>\n",
       "  </thead>\n",
       "  <tbody>\n",
       "    <tr>\n",
       "      <th>0</th>\n",
       "      <td>b\"&lt;div&gt;&lt;div&gt;Job Requirements:&lt;/div&gt;&lt;ul&gt;&lt;li&gt;&lt;p&gt;...</td>\n",
       "      <td>Data scientist</td>\n",
       "      <td>b\"Job Requirements:\\nConceptual understanding ...</td>\n",
       "      <td>bJob RequirementsnConceptual understanding in ...</td>\n",
       "    </tr>\n",
       "    <tr>\n",
       "      <th>1</th>\n",
       "      <td>b'&lt;div&gt;Job Description&lt;br/&gt;\\n&lt;br/&gt;\\n&lt;p&gt;As a Da...</td>\n",
       "      <td>Data Scientist I</td>\n",
       "      <td>b'Job Description\\n\\nAs a Data Scientist 1, yo...</td>\n",
       "      <td>bJob DescriptionnnAs a Data Scientist 1 you wi...</td>\n",
       "    </tr>\n",
       "    <tr>\n",
       "      <th>2</th>\n",
       "      <td>b'&lt;div&gt;&lt;p&gt;As a Data Scientist you will be work...</td>\n",
       "      <td>Data Scientist - Entry Level</td>\n",
       "      <td>b'As a Data Scientist you will be working on c...</td>\n",
       "      <td>bAs a Data Scientist you will be working on co...</td>\n",
       "    </tr>\n",
       "    <tr>\n",
       "      <th>3</th>\n",
       "      <td>b'&lt;div class=\"jobsearch-JobMetadataHeader icl-...</td>\n",
       "      <td>Data Scientist</td>\n",
       "      <td>b'$4,969 - $6,756 a monthContractUnder the gen...</td>\n",
       "      <td>b4969  6756 a monthContractUnder the general s...</td>\n",
       "    </tr>\n",
       "    <tr>\n",
       "      <th>4</th>\n",
       "      <td>b'&lt;ul&gt;&lt;li&gt;Location: USA \\xe2\\x80\\x93 multiple ...</td>\n",
       "      <td>Data Scientist</td>\n",
       "      <td>b'Location: USA \\xe2\\x80\\x93 multiple location...</td>\n",
       "      <td>bLocation USA xe2x80x93 multiple locationsn2 y...</td>\n",
       "    </tr>\n",
       "  </tbody>\n",
       "</table>\n",
       "</div>"
      ],
      "text/plain": [
       "                                         description  \\\n",
       "0  b\"<div><div>Job Requirements:</div><ul><li><p>...   \n",
       "1  b'<div>Job Description<br/>\\n<br/>\\n<p>As a Da...   \n",
       "2  b'<div><p>As a Data Scientist you will be work...   \n",
       "3  b'<div class=\"jobsearch-JobMetadataHeader icl-...   \n",
       "4  b'<ul><li>Location: USA \\xe2\\x80\\x93 multiple ...   \n",
       "\n",
       "                          title  \\\n",
       "0               Data scientist    \n",
       "1              Data Scientist I   \n",
       "2  Data Scientist - Entry Level   \n",
       "3                Data Scientist   \n",
       "4                Data Scientist   \n",
       "\n",
       "                                                desc  \\\n",
       "0  b\"Job Requirements:\\nConceptual understanding ...   \n",
       "1  b'Job Description\\n\\nAs a Data Scientist 1, yo...   \n",
       "2  b'As a Data Scientist you will be working on c...   \n",
       "3  b'$4,969 - $6,756 a monthContractUnder the gen...   \n",
       "4  b'Location: USA \\xe2\\x80\\x93 multiple location...   \n",
       "\n",
       "                                               desc1  \n",
       "0  bJob RequirementsnConceptual understanding in ...  \n",
       "1  bJob DescriptionnnAs a Data Scientist 1 you wi...  \n",
       "2  bAs a Data Scientist you will be working on co...  \n",
       "3  b4969  6756 a monthContractUnder the general s...  \n",
       "4  bLocation USA xe2x80x93 multiple locationsn2 y...  "
      ]
     },
     "execution_count": 19,
     "metadata": {},
     "output_type": "execute_result"
    }
   ],
   "source": [
    "df.head()"
   ]
  },
  {
   "cell_type": "code",
   "execution_count": 20,
   "metadata": {},
   "outputs": [
    {
     "data": {
      "text/html": [
       "<div>\n",
       "<style scoped>\n",
       "    .dataframe tbody tr th:only-of-type {\n",
       "        vertical-align: middle;\n",
       "    }\n",
       "\n",
       "    .dataframe tbody tr th {\n",
       "        vertical-align: top;\n",
       "    }\n",
       "\n",
       "    .dataframe thead th {\n",
       "        text-align: right;\n",
       "    }\n",
       "</style>\n",
       "<table border=\"1\" class=\"dataframe\">\n",
       "  <thead>\n",
       "    <tr style=\"text-align: right;\">\n",
       "      <th></th>\n",
       "      <th>description</th>\n",
       "      <th>title</th>\n",
       "      <th>desc</th>\n",
       "      <th>desc1</th>\n",
       "    </tr>\n",
       "  </thead>\n",
       "  <tbody>\n",
       "    <tr>\n",
       "      <th>3</th>\n",
       "      <td>b'&lt;div class=\"jobsearch-JobMetadataHeader icl-...</td>\n",
       "      <td>Data Scientist</td>\n",
       "      <td>b'$4,969 - $6,756 a monthContractUnder the gen...</td>\n",
       "      <td>b4969  6756 a monthContractUnder the general s...</td>\n",
       "    </tr>\n",
       "    <tr>\n",
       "      <th>4</th>\n",
       "      <td>b'&lt;ul&gt;&lt;li&gt;Location: USA \\xe2\\x80\\x93 multiple ...</td>\n",
       "      <td>Data Scientist</td>\n",
       "      <td>b'Location: USA \\xe2\\x80\\x93 multiple location...</td>\n",
       "      <td>bLocation USA xe2x80x93 multiple locationsn2 y...</td>\n",
       "    </tr>\n",
       "    <tr>\n",
       "      <th>5</th>\n",
       "      <td>b'&lt;div&gt;Create various Business Intelligence An...</td>\n",
       "      <td>Data Scientist</td>\n",
       "      <td>b'Create various Business Intelligence Analyti...</td>\n",
       "      <td>bCreate various Business Intelligence Analytic...</td>\n",
       "    </tr>\n",
       "    <tr>\n",
       "      <th>7</th>\n",
       "      <td>b\"Everytown for Gun Safety, the nation's large...</td>\n",
       "      <td>Data Scientist</td>\n",
       "      <td>b\"Everytown for Gun Safety, the nation's large...</td>\n",
       "      <td>bEverytown for Gun Safety the nations largest ...</td>\n",
       "    </tr>\n",
       "    <tr>\n",
       "      <th>12</th>\n",
       "      <td>b\"nfosys\\xe2\\x80\\x93 Data &amp;amp; Analytics \\xe2...</td>\n",
       "      <td>Data Scientist</td>\n",
       "      <td>b\"nfosys\\xe2\\x80\\x93 Data &amp; Analytics \\xe2\\x80...</td>\n",
       "      <td>bnfosysxe2x80x93 Data  Analytics xe2x80x93 Sr ...</td>\n",
       "    </tr>\n",
       "    <tr>\n",
       "      <th>...</th>\n",
       "      <td>...</td>\n",
       "      <td>...</td>\n",
       "      <td>...</td>\n",
       "      <td>...</td>\n",
       "    </tr>\n",
       "    <tr>\n",
       "      <th>408</th>\n",
       "      <td>b'&lt;div&gt;&lt;p&gt;FinLocker is a leading financial dat...</td>\n",
       "      <td>Data Scientist</td>\n",
       "      <td>b'FinLocker is a leading financial data and an...</td>\n",
       "      <td>bFinLocker is a leading financial data and ana...</td>\n",
       "    </tr>\n",
       "    <tr>\n",
       "      <th>409</th>\n",
       "      <td>b'&lt;div&gt;&lt;p&gt;With annual sales of $15 billion, Ec...</td>\n",
       "      <td>Data Scientist</td>\n",
       "      <td>b'With annual sales of $15 billion, Ecolab (EC...</td>\n",
       "      <td>bWith annual sales of 15 billion Ecolab ECL is...</td>\n",
       "    </tr>\n",
       "    <tr>\n",
       "      <th>410</th>\n",
       "      <td>b'&lt;div&gt;Job Description:&lt;br/&gt;\\n&lt;br/&gt;\\nThe Enter...</td>\n",
       "      <td>Data Scientist</td>\n",
       "      <td>b'Job Description:\\n\\nThe Enterprise Data Solu...</td>\n",
       "      <td>bJob DescriptionnnThe Enterprise Data Solution...</td>\n",
       "    </tr>\n",
       "    <tr>\n",
       "      <th>411</th>\n",
       "      <td>b\"&lt;div&gt;Description:\\n&lt;p&gt;Chicago - IL, IL150SW,...</td>\n",
       "      <td>Data Scientist</td>\n",
       "      <td>b\"Description:\\nChicago - IL, IL150SW, 150 S W...</td>\n",
       "      <td>bDescriptionnChicago  IL IL150SW 150 S Wacker ...</td>\n",
       "    </tr>\n",
       "    <tr>\n",
       "      <th>425</th>\n",
       "      <td>b'&lt;div&gt;&lt;/div&gt;&lt;div&gt;&lt;div&gt;&lt;div&gt;&lt;div&gt;&lt;p&gt;Cerner Int...</td>\n",
       "      <td>Data Scientist</td>\n",
       "      <td>b'Cerner Intelligence is a new, innovative org...</td>\n",
       "      <td>bCerner Intelligence is a new innovative organ...</td>\n",
       "    </tr>\n",
       "  </tbody>\n",
       "</table>\n",
       "<p>150 rows × 4 columns</p>\n",
       "</div>"
      ],
      "text/plain": [
       "                                           description           title  \\\n",
       "3    b'<div class=\"jobsearch-JobMetadataHeader icl-...  Data Scientist   \n",
       "4    b'<ul><li>Location: USA \\xe2\\x80\\x93 multiple ...  Data Scientist   \n",
       "5    b'<div>Create various Business Intelligence An...  Data Scientist   \n",
       "7    b\"Everytown for Gun Safety, the nation's large...  Data Scientist   \n",
       "12   b\"nfosys\\xe2\\x80\\x93 Data &amp; Analytics \\xe2...  Data Scientist   \n",
       "..                                                 ...             ...   \n",
       "408  b'<div><p>FinLocker is a leading financial dat...  Data Scientist   \n",
       "409  b'<div><p>With annual sales of $15 billion, Ec...  Data Scientist   \n",
       "410  b'<div>Job Description:<br/>\\n<br/>\\nThe Enter...  Data Scientist   \n",
       "411  b\"<div>Description:\\n<p>Chicago - IL, IL150SW,...  Data Scientist   \n",
       "425  b'<div></div><div><div><div><div><p>Cerner Int...  Data Scientist   \n",
       "\n",
       "                                                  desc  \\\n",
       "3    b'$4,969 - $6,756 a monthContractUnder the gen...   \n",
       "4    b'Location: USA \\xe2\\x80\\x93 multiple location...   \n",
       "5    b'Create various Business Intelligence Analyti...   \n",
       "7    b\"Everytown for Gun Safety, the nation's large...   \n",
       "12   b\"nfosys\\xe2\\x80\\x93 Data & Analytics \\xe2\\x80...   \n",
       "..                                                 ...   \n",
       "408  b'FinLocker is a leading financial data and an...   \n",
       "409  b'With annual sales of $15 billion, Ecolab (EC...   \n",
       "410  b'Job Description:\\n\\nThe Enterprise Data Solu...   \n",
       "411  b\"Description:\\nChicago - IL, IL150SW, 150 S W...   \n",
       "425  b'Cerner Intelligence is a new, innovative org...   \n",
       "\n",
       "                                                 desc1  \n",
       "3    b4969  6756 a monthContractUnder the general s...  \n",
       "4    bLocation USA xe2x80x93 multiple locationsn2 y...  \n",
       "5    bCreate various Business Intelligence Analytic...  \n",
       "7    bEverytown for Gun Safety the nations largest ...  \n",
       "12   bnfosysxe2x80x93 Data  Analytics xe2x80x93 Sr ...  \n",
       "..                                                 ...  \n",
       "408  bFinLocker is a leading financial data and ana...  \n",
       "409  bWith annual sales of 15 billion Ecolab ECL is...  \n",
       "410  bJob DescriptionnnThe Enterprise Data Solution...  \n",
       "411  bDescriptionnChicago  IL IL150SW 150 S Wacker ...  \n",
       "425  bCerner Intelligence is a new innovative organ...  \n",
       "\n",
       "[150 rows x 4 columns]"
      ]
     },
     "execution_count": 20,
     "metadata": {},
     "output_type": "execute_result"
    }
   ],
   "source": [
    "# Filtering for Data Scientist job title\n",
    "\n",
    "df[df['title'] == 'Data Scientist']"
   ]
  },
  {
   "cell_type": "code",
   "execution_count": 25,
   "metadata": {},
   "outputs": [
    {
     "name": "stdout",
     "output_type": "stream",
     "text": [
      "<class 'pandas.core.frame.DataFrame'>\n"
     ]
    },
    {
     "data": {
      "text/html": [
       "<div>\n",
       "<style scoped>\n",
       "    .dataframe tbody tr th:only-of-type {\n",
       "        vertical-align: middle;\n",
       "    }\n",
       "\n",
       "    .dataframe tbody tr th {\n",
       "        vertical-align: top;\n",
       "    }\n",
       "\n",
       "    .dataframe thead th {\n",
       "        text-align: right;\n",
       "    }\n",
       "</style>\n",
       "<table border=\"1\" class=\"dataframe\">\n",
       "  <thead>\n",
       "    <tr style=\"text-align: right;\">\n",
       "      <th></th>\n",
       "      <th>description</th>\n",
       "      <th>title</th>\n",
       "      <th>desc</th>\n",
       "      <th>desc1</th>\n",
       "    </tr>\n",
       "  </thead>\n",
       "  <tbody>\n",
       "    <tr>\n",
       "      <th>3</th>\n",
       "      <td>b'&lt;div class=\"jobsearch-JobMetadataHeader icl-...</td>\n",
       "      <td>Data Scientist</td>\n",
       "      <td>b'$4,969 - $6,756 a monthContractUnder the gen...</td>\n",
       "      <td>b4969  6756 a monthContractUnder the general s...</td>\n",
       "    </tr>\n",
       "    <tr>\n",
       "      <th>4</th>\n",
       "      <td>b'&lt;ul&gt;&lt;li&gt;Location: USA \\xe2\\x80\\x93 multiple ...</td>\n",
       "      <td>Data Scientist</td>\n",
       "      <td>b'Location: USA \\xe2\\x80\\x93 multiple location...</td>\n",
       "      <td>bLocation USA xe2x80x93 multiple locationsn2 y...</td>\n",
       "    </tr>\n",
       "    <tr>\n",
       "      <th>5</th>\n",
       "      <td>b'&lt;div&gt;Create various Business Intelligence An...</td>\n",
       "      <td>Data Scientist</td>\n",
       "      <td>b'Create various Business Intelligence Analyti...</td>\n",
       "      <td>bCreate various Business Intelligence Analytic...</td>\n",
       "    </tr>\n",
       "    <tr>\n",
       "      <th>7</th>\n",
       "      <td>b\"Everytown for Gun Safety, the nation's large...</td>\n",
       "      <td>Data Scientist</td>\n",
       "      <td>b\"Everytown for Gun Safety, the nation's large...</td>\n",
       "      <td>bEverytown for Gun Safety the nations largest ...</td>\n",
       "    </tr>\n",
       "    <tr>\n",
       "      <th>12</th>\n",
       "      <td>b\"nfosys\\xe2\\x80\\x93 Data &amp;amp; Analytics \\xe2...</td>\n",
       "      <td>Data Scientist</td>\n",
       "      <td>b\"nfosys\\xe2\\x80\\x93 Data &amp; Analytics \\xe2\\x80...</td>\n",
       "      <td>bnfosysxe2x80x93 Data  Analytics xe2x80x93 Sr ...</td>\n",
       "    </tr>\n",
       "  </tbody>\n",
       "</table>\n",
       "</div>"
      ],
      "text/plain": [
       "                                          description           title  \\\n",
       "3   b'<div class=\"jobsearch-JobMetadataHeader icl-...  Data Scientist   \n",
       "4   b'<ul><li>Location: USA \\xe2\\x80\\x93 multiple ...  Data Scientist   \n",
       "5   b'<div>Create various Business Intelligence An...  Data Scientist   \n",
       "7   b\"Everytown for Gun Safety, the nation's large...  Data Scientist   \n",
       "12  b\"nfosys\\xe2\\x80\\x93 Data &amp; Analytics \\xe2...  Data Scientist   \n",
       "\n",
       "                                                 desc  \\\n",
       "3   b'$4,969 - $6,756 a monthContractUnder the gen...   \n",
       "4   b'Location: USA \\xe2\\x80\\x93 multiple location...   \n",
       "5   b'Create various Business Intelligence Analyti...   \n",
       "7   b\"Everytown for Gun Safety, the nation's large...   \n",
       "12  b\"nfosys\\xe2\\x80\\x93 Data & Analytics \\xe2\\x80...   \n",
       "\n",
       "                                                desc1  \n",
       "3   b4969  6756 a monthContractUnder the general s...  \n",
       "4   bLocation USA xe2x80x93 multiple locationsn2 y...  \n",
       "5   bCreate various Business Intelligence Analytic...  \n",
       "7   bEverytown for Gun Safety the nations largest ...  \n",
       "12  bnfosysxe2x80x93 Data  Analytics xe2x80x93 Sr ...  "
      ]
     },
     "execution_count": 25,
     "metadata": {},
     "output_type": "execute_result"
    }
   ],
   "source": [
    "# Creating new Data Frame with filtered results\n",
    "\n",
    "df_ds = pd.DataFrame(df[df['title'] == 'Data Scientist'])\n",
    "print(type(df_ds))\n",
    "df_ds.head()"
   ]
  },
  {
   "cell_type": "markdown",
   "metadata": {
    "colab_type": "text",
    "id": "5C4xFZNtX1m2"
   },
   "source": [
    "## 2) Use Spacy to tokenize the listings "
   ]
  },
  {
   "cell_type": "code",
   "execution_count": 22,
   "metadata": {
    "colab": {},
    "colab_type": "code",
    "id": "dhUHuMr-X-II"
   },
   "outputs": [],
   "source": [
    "from spacy.tokenizer import Tokenizer\n",
    "\n",
    "nlp = spacy.load(\"en_core_web_lg\")\n",
    "\n",
    "# Tokenizer\n",
    "tokenizer = Tokenizer(nlp.vocab)"
   ]
  },
  {
   "cell_type": "code",
   "execution_count": 23,
   "metadata": {},
   "outputs": [],
   "source": [
    "tokens = []\n",
    "\n",
    "\"\"\" Update those tokens w/o stopwords\"\"\"\n",
    "for doc in tokenizer.pipe(df_ds['desc'], batch_size=500):\n",
    "    \n",
    "    doc_tokens = []\n",
    "    \n",
    "    for token in doc:\n",
    "        if (token.is_stop == False) & (token.is_punct == False) & (token.like_num == False) & (token.is_space == False) & (token.is_digit == False):\n",
    "            doc_tokens.append(token.lemma_)\n",
    "\n",
    "    tokens.append(doc_tokens)\n",
    "\n",
    "df_ds['tokens'] = tokens"
   ]
  },
  {
   "cell_type": "code",
   "execution_count": 24,
   "metadata": {},
   "outputs": [
    {
     "data": {
      "text/html": [
       "<div>\n",
       "<style scoped>\n",
       "    .dataframe tbody tr th:only-of-type {\n",
       "        vertical-align: middle;\n",
       "    }\n",
       "\n",
       "    .dataframe tbody tr th {\n",
       "        vertical-align: top;\n",
       "    }\n",
       "\n",
       "    .dataframe thead th {\n",
       "        text-align: right;\n",
       "    }\n",
       "</style>\n",
       "<table border=\"1\" class=\"dataframe\">\n",
       "  <thead>\n",
       "    <tr style=\"text-align: right;\">\n",
       "      <th></th>\n",
       "      <th>description</th>\n",
       "      <th>title</th>\n",
       "      <th>desc</th>\n",
       "      <th>desc1</th>\n",
       "      <th>tokens</th>\n",
       "    </tr>\n",
       "  </thead>\n",
       "  <tbody>\n",
       "    <tr>\n",
       "      <th>3</th>\n",
       "      <td>b'&lt;div class=\"jobsearch-JobMetadataHeader icl-...</td>\n",
       "      <td>Data Scientist</td>\n",
       "      <td>b'$4,969 - $6,756 a monthContractUnder the gen...</td>\n",
       "      <td>b4969  6756 a monthContractUnder the general s...</td>\n",
       "      <td>[b'$4,969, $6,756, monthContractUnder, general...</td>\n",
       "    </tr>\n",
       "    <tr>\n",
       "      <th>4</th>\n",
       "      <td>b'&lt;ul&gt;&lt;li&gt;Location: USA \\xe2\\x80\\x93 multiple ...</td>\n",
       "      <td>Data Scientist</td>\n",
       "      <td>b'Location: USA \\xe2\\x80\\x93 multiple location...</td>\n",
       "      <td>bLocation USA xe2x80x93 multiple locationsn2 y...</td>\n",
       "      <td>[b'Location:, USA, \\xe2\\x80\\x93, multiple, loc...</td>\n",
       "    </tr>\n",
       "    <tr>\n",
       "      <th>5</th>\n",
       "      <td>b'&lt;div&gt;Create various Business Intelligence An...</td>\n",
       "      <td>Data Scientist</td>\n",
       "      <td>b'Create various Business Intelligence Analyti...</td>\n",
       "      <td>bCreate various Business Intelligence Analytic...</td>\n",
       "      <td>[b'Create, Business, Intelligence, Analytical,...</td>\n",
       "    </tr>\n",
       "    <tr>\n",
       "      <th>7</th>\n",
       "      <td>b\"Everytown for Gun Safety, the nation's large...</td>\n",
       "      <td>Data Scientist</td>\n",
       "      <td>b\"Everytown for Gun Safety, the nation's large...</td>\n",
       "      <td>bEverytown for Gun Safety the nations largest ...</td>\n",
       "      <td>[b\"Everytown, Gun, Safety,, nation's, large, g...</td>\n",
       "    </tr>\n",
       "    <tr>\n",
       "      <th>12</th>\n",
       "      <td>b\"nfosys\\xe2\\x80\\x93 Data &amp;amp; Analytics \\xe2...</td>\n",
       "      <td>Data Scientist</td>\n",
       "      <td>b\"nfosys\\xe2\\x80\\x93 Data &amp; Analytics \\xe2\\x80...</td>\n",
       "      <td>bnfosysxe2x80x93 Data  Analytics xe2x80x93 Sr ...</td>\n",
       "      <td>[b\"nfosys\\xe2\\x80\\x93, Data, Analytics, \\xe2\\x...</td>\n",
       "    </tr>\n",
       "  </tbody>\n",
       "</table>\n",
       "</div>"
      ],
      "text/plain": [
       "                                          description           title  \\\n",
       "3   b'<div class=\"jobsearch-JobMetadataHeader icl-...  Data Scientist   \n",
       "4   b'<ul><li>Location: USA \\xe2\\x80\\x93 multiple ...  Data Scientist   \n",
       "5   b'<div>Create various Business Intelligence An...  Data Scientist   \n",
       "7   b\"Everytown for Gun Safety, the nation's large...  Data Scientist   \n",
       "12  b\"nfosys\\xe2\\x80\\x93 Data &amp; Analytics \\xe2...  Data Scientist   \n",
       "\n",
       "                                                 desc  \\\n",
       "3   b'$4,969 - $6,756 a monthContractUnder the gen...   \n",
       "4   b'Location: USA \\xe2\\x80\\x93 multiple location...   \n",
       "5   b'Create various Business Intelligence Analyti...   \n",
       "7   b\"Everytown for Gun Safety, the nation's large...   \n",
       "12  b\"nfosys\\xe2\\x80\\x93 Data & Analytics \\xe2\\x80...   \n",
       "\n",
       "                                                desc1  \\\n",
       "3   b4969  6756 a monthContractUnder the general s...   \n",
       "4   bLocation USA xe2x80x93 multiple locationsn2 y...   \n",
       "5   bCreate various Business Intelligence Analytic...   \n",
       "7   bEverytown for Gun Safety the nations largest ...   \n",
       "12  bnfosysxe2x80x93 Data  Analytics xe2x80x93 Sr ...   \n",
       "\n",
       "                                               tokens  \n",
       "3   [b'$4,969, $6,756, monthContractUnder, general...  \n",
       "4   [b'Location:, USA, \\xe2\\x80\\x93, multiple, loc...  \n",
       "5   [b'Create, Business, Intelligence, Analytical,...  \n",
       "7   [b\"Everytown, Gun, Safety,, nation's, large, g...  \n",
       "12  [b\"nfosys\\xe2\\x80\\x93, Data, Analytics, \\xe2\\x...  "
      ]
     },
     "execution_count": 24,
     "metadata": {},
     "output_type": "execute_result"
    }
   ],
   "source": [
    "df_ds.head()"
   ]
  },
  {
   "cell_type": "markdown",
   "metadata": {
    "colab_type": "text",
    "id": "-lgCZNL_YycP"
   },
   "source": [
    "## 3) Use Scikit-Learn's CountVectorizer to get word counts for each listing."
   ]
  },
  {
   "cell_type": "code",
   "execution_count": 26,
   "metadata": {},
   "outputs": [],
   "source": [
    "# Extracting description column from Data Frame and casting as a list\n",
    "\n",
    "data = [item.strip() for item in df_ds['desc']]"
   ]
  },
  {
   "cell_type": "code",
   "execution_count": 27,
   "metadata": {},
   "outputs": [
    {
     "data": {
      "text/plain": [
       "list"
      ]
     },
     "execution_count": 27,
     "metadata": {},
     "output_type": "execute_result"
    }
   ],
   "source": [
    "type(data)"
   ]
  },
  {
   "cell_type": "code",
   "execution_count": 28,
   "metadata": {
    "colab": {},
    "colab_type": "code",
    "id": "X2PZ8Pj_YxcF"
   },
   "outputs": [],
   "source": [
    "from sklearn.feature_extraction.text import CountVectorizer\n",
    "\n",
    "vect = CountVectorizer(stop_words='english', max_features=1000)\n",
    "\n",
    "#Learn our Vocab\n",
    "vect.fit(data)\n",
    "\n",
    "# Get sparse dtm\n",
    "dtm = vect.transform(data)\n",
    "\n",
    "dtm = pd.DataFrame(dtm.todense(), columns=vect.get_feature_names())"
   ]
  },
  {
   "cell_type": "code",
   "execution_count": 29,
   "metadata": {},
   "outputs": [
    {
     "data": {
      "text/html": [
       "<div>\n",
       "<style scoped>\n",
       "    .dataframe tbody tr th:only-of-type {\n",
       "        vertical-align: middle;\n",
       "    }\n",
       "\n",
       "    .dataframe tbody tr th {\n",
       "        vertical-align: top;\n",
       "    }\n",
       "\n",
       "    .dataframe thead th {\n",
       "        text-align: right;\n",
       "    }\n",
       "</style>\n",
       "<table border=\"1\" class=\"dataframe\">\n",
       "  <thead>\n",
       "    <tr style=\"text-align: right;\">\n",
       "      <th></th>\n",
       "      <th>10</th>\n",
       "      <th>100</th>\n",
       "      <th>500</th>\n",
       "      <th>abilities</th>\n",
       "      <th>ability</th>\n",
       "      <th>able</th>\n",
       "      <th>academic</th>\n",
       "      <th>access</th>\n",
       "      <th>accommodation</th>\n",
       "      <th>accommodations</th>\n",
       "      <th>...</th>\n",
       "      <th>x9d</th>\n",
       "      <th>xa2</th>\n",
       "      <th>xa6</th>\n",
       "      <th>xae</th>\n",
       "      <th>xb7</th>\n",
       "      <th>xc2</th>\n",
       "      <th>xe2</th>\n",
       "      <th>year</th>\n",
       "      <th>years</th>\n",
       "      <th>york</th>\n",
       "    </tr>\n",
       "  </thead>\n",
       "  <tbody>\n",
       "    <tr>\n",
       "      <th>0</th>\n",
       "      <td>0</td>\n",
       "      <td>0</td>\n",
       "      <td>0</td>\n",
       "      <td>0</td>\n",
       "      <td>0</td>\n",
       "      <td>0</td>\n",
       "      <td>0</td>\n",
       "      <td>0</td>\n",
       "      <td>0</td>\n",
       "      <td>0</td>\n",
       "      <td>...</td>\n",
       "      <td>0</td>\n",
       "      <td>0</td>\n",
       "      <td>0</td>\n",
       "      <td>0</td>\n",
       "      <td>0</td>\n",
       "      <td>0</td>\n",
       "      <td>0</td>\n",
       "      <td>1</td>\n",
       "      <td>0</td>\n",
       "      <td>0</td>\n",
       "    </tr>\n",
       "    <tr>\n",
       "      <th>1</th>\n",
       "      <td>0</td>\n",
       "      <td>0</td>\n",
       "      <td>0</td>\n",
       "      <td>0</td>\n",
       "      <td>0</td>\n",
       "      <td>0</td>\n",
       "      <td>0</td>\n",
       "      <td>0</td>\n",
       "      <td>0</td>\n",
       "      <td>0</td>\n",
       "      <td>...</td>\n",
       "      <td>0</td>\n",
       "      <td>0</td>\n",
       "      <td>0</td>\n",
       "      <td>0</td>\n",
       "      <td>0</td>\n",
       "      <td>0</td>\n",
       "      <td>1</td>\n",
       "      <td>0</td>\n",
       "      <td>1</td>\n",
       "      <td>0</td>\n",
       "    </tr>\n",
       "    <tr>\n",
       "      <th>2</th>\n",
       "      <td>0</td>\n",
       "      <td>0</td>\n",
       "      <td>0</td>\n",
       "      <td>0</td>\n",
       "      <td>0</td>\n",
       "      <td>0</td>\n",
       "      <td>0</td>\n",
       "      <td>1</td>\n",
       "      <td>0</td>\n",
       "      <td>0</td>\n",
       "      <td>...</td>\n",
       "      <td>0</td>\n",
       "      <td>0</td>\n",
       "      <td>0</td>\n",
       "      <td>0</td>\n",
       "      <td>0</td>\n",
       "      <td>0</td>\n",
       "      <td>0</td>\n",
       "      <td>0</td>\n",
       "      <td>0</td>\n",
       "      <td>0</td>\n",
       "    </tr>\n",
       "    <tr>\n",
       "      <th>3</th>\n",
       "      <td>0</td>\n",
       "      <td>0</td>\n",
       "      <td>0</td>\n",
       "      <td>0</td>\n",
       "      <td>2</td>\n",
       "      <td>0</td>\n",
       "      <td>0</td>\n",
       "      <td>0</td>\n",
       "      <td>0</td>\n",
       "      <td>1</td>\n",
       "      <td>...</td>\n",
       "      <td>0</td>\n",
       "      <td>0</td>\n",
       "      <td>0</td>\n",
       "      <td>0</td>\n",
       "      <td>0</td>\n",
       "      <td>0</td>\n",
       "      <td>0</td>\n",
       "      <td>0</td>\n",
       "      <td>1</td>\n",
       "      <td>0</td>\n",
       "    </tr>\n",
       "    <tr>\n",
       "      <th>4</th>\n",
       "      <td>0</td>\n",
       "      <td>0</td>\n",
       "      <td>0</td>\n",
       "      <td>0</td>\n",
       "      <td>0</td>\n",
       "      <td>0</td>\n",
       "      <td>0</td>\n",
       "      <td>1</td>\n",
       "      <td>0</td>\n",
       "      <td>0</td>\n",
       "      <td>...</td>\n",
       "      <td>0</td>\n",
       "      <td>16</td>\n",
       "      <td>0</td>\n",
       "      <td>0</td>\n",
       "      <td>0</td>\n",
       "      <td>0</td>\n",
       "      <td>23</td>\n",
       "      <td>1</td>\n",
       "      <td>2</td>\n",
       "      <td>0</td>\n",
       "    </tr>\n",
       "  </tbody>\n",
       "</table>\n",
       "<p>5 rows × 1000 columns</p>\n",
       "</div>"
      ],
      "text/plain": [
       "   10  100  500  abilities  ability  able  academic  access  accommodation  \\\n",
       "0   0    0    0          0        0     0         0       0              0   \n",
       "1   0    0    0          0        0     0         0       0              0   \n",
       "2   0    0    0          0        0     0         0       1              0   \n",
       "3   0    0    0          0        2     0         0       0              0   \n",
       "4   0    0    0          0        0     0         0       1              0   \n",
       "\n",
       "   accommodations  ...  x9d  xa2  xa6  xae  xb7  xc2  xe2  year  years  york  \n",
       "0               0  ...    0    0    0    0    0    0    0     1      0     0  \n",
       "1               0  ...    0    0    0    0    0    0    1     0      1     0  \n",
       "2               0  ...    0    0    0    0    0    0    0     0      0     0  \n",
       "3               1  ...    0    0    0    0    0    0    0     0      1     0  \n",
       "4               0  ...    0   16    0    0    0    0   23     1      2     0  \n",
       "\n",
       "[5 rows x 1000 columns]"
      ]
     },
     "execution_count": 29,
     "metadata": {},
     "output_type": "execute_result"
    }
   ],
   "source": [
    "dtm.head()"
   ]
  },
  {
   "cell_type": "code",
   "execution_count": 30,
   "metadata": {},
   "outputs": [
    {
     "data": {
      "text/plain": [
       "150"
      ]
     },
     "execution_count": 30,
     "metadata": {},
     "output_type": "execute_result"
    }
   ],
   "source": [
    "# Length of data list\n",
    "\n",
    "len(data)"
   ]
  },
  {
   "cell_type": "code",
   "execution_count": 31,
   "metadata": {
    "colab": {},
    "colab_type": "code",
    "id": "M5LB00uyZKV5"
   },
   "outputs": [
    {
     "data": {
      "image/png": "[encoded data removed]",
      "text/plain": [
       "<Figure size 432x288 with 1 Axes>"
      ]
     },
     "metadata": {
      "needs_background": "light"
     },
     "output_type": "display_data"
    }
   ],
   "source": [
    "import seaborn as sns\n",
    "\n",
    "doc_len = [len(doc) for doc in data]\n",
    "\n",
    "sns.distplot(doc_len);"
   ]
  },
  {
   "cell_type": "markdown",
   "metadata": {
    "colab_type": "text",
    "id": "Zo1iH_UeY7_n"
   },
   "source": [
    "## 4) Visualize the most common word counts"
   ]
  },
  {
   "cell_type": "code",
   "execution_count": 35,
   "metadata": {},
   "outputs": [],
   "source": [
    "# Function for analyzing word counts - Courtesy Lecture Notes\n",
    "\n",
    "from collections import Counter\n",
    "\n",
    "def count(docs):\n",
    "\n",
    "        word_counts = Counter()\n",
    "        appears_in = Counter()\n",
    "        \n",
    "        total_docs = len(docs)\n",
    "\n",
    "        for doc in docs:\n",
    "            word_counts.update(doc)\n",
    "            appears_in.update(set(doc))\n",
    "\n",
    "        temp = zip(word_counts.keys(), word_counts.values())\n",
    "        \n",
    "        wc = pd.DataFrame(temp, columns = ['word', 'count'])\n",
    "\n",
    "        wc['rank'] = wc['count'].rank(method='first', ascending=False)\n",
    "        total = wc['count'].sum()\n",
    "\n",
    "        wc['pct_total'] = wc['count'].apply(lambda x: x / total)\n",
    "        \n",
    "        wc = wc.sort_values(by='rank')\n",
    "        wc['cul_pct_total'] = wc['pct_total'].cumsum()\n",
    "\n",
    "        t2 = zip(appears_in.keys(), appears_in.values())\n",
    "        ac = pd.DataFrame(t2, columns=['word', 'appears_in'])\n",
    "        wc = ac.merge(wc, on='word')\n",
    "\n",
    "        wc['appears_in_pct'] = wc['appears_in'].apply(lambda x: x / total_docs)\n",
    "        \n",
    "        return wc.sort_values(by='rank')"
   ]
  },
  {
   "cell_type": "code",
   "execution_count": 36,
   "metadata": {},
   "outputs": [
    {
     "data": {
      "text/html": [
       "<div>\n",
       "<style scoped>\n",
       "    .dataframe tbody tr th:only-of-type {\n",
       "        vertical-align: middle;\n",
       "    }\n",
       "\n",
       "    .dataframe tbody tr th {\n",
       "        vertical-align: top;\n",
       "    }\n",
       "\n",
       "    .dataframe thead th {\n",
       "        text-align: right;\n",
       "    }\n",
       "</style>\n",
       "<table border=\"1\" class=\"dataframe\">\n",
       "  <thead>\n",
       "    <tr style=\"text-align: right;\">\n",
       "      <th></th>\n",
       "      <th>word</th>\n",
       "      <th>appears_in</th>\n",
       "      <th>count</th>\n",
       "      <th>rank</th>\n",
       "      <th>pct_total</th>\n",
       "      <th>cul_pct_total</th>\n",
       "      <th>appears_in_pct</th>\n",
       "    </tr>\n",
       "  </thead>\n",
       "  <tbody>\n",
       "    <tr>\n",
       "      <th>24</th>\n",
       "      <td></td>\n",
       "      <td>150</td>\n",
       "      <td>66922</td>\n",
       "      <td>1.0</td>\n",
       "      <td>0.131837</td>\n",
       "      <td>0.131837</td>\n",
       "      <td>1.0</td>\n",
       "    </tr>\n",
       "    <tr>\n",
       "      <th>59</th>\n",
       "      <td>e</td>\n",
       "      <td>150</td>\n",
       "      <td>46929</td>\n",
       "      <td>2.0</td>\n",
       "      <td>0.092450</td>\n",
       "      <td>0.224287</td>\n",
       "      <td>1.0</td>\n",
       "    </tr>\n",
       "    <tr>\n",
       "      <th>41</th>\n",
       "      <td>n</td>\n",
       "      <td>150</td>\n",
       "      <td>37383</td>\n",
       "      <td>3.0</td>\n",
       "      <td>0.073645</td>\n",
       "      <td>0.297932</td>\n",
       "      <td>1.0</td>\n",
       "    </tr>\n",
       "    <tr>\n",
       "      <th>51</th>\n",
       "      <td>i</td>\n",
       "      <td>150</td>\n",
       "      <td>34745</td>\n",
       "      <td>4.0</td>\n",
       "      <td>0.068448</td>\n",
       "      <td>0.366380</td>\n",
       "      <td>1.0</td>\n",
       "    </tr>\n",
       "    <tr>\n",
       "      <th>35</th>\n",
       "      <td>a</td>\n",
       "      <td>150</td>\n",
       "      <td>34500</td>\n",
       "      <td>5.0</td>\n",
       "      <td>0.067965</td>\n",
       "      <td>0.434345</td>\n",
       "      <td>1.0</td>\n",
       "    </tr>\n",
       "  </tbody>\n",
       "</table>\n",
       "</div>"
      ],
      "text/plain": [
       "   word  appears_in  count  rank  pct_total  cul_pct_total  appears_in_pct\n",
       "24              150  66922   1.0   0.131837       0.131837             1.0\n",
       "59    e         150  46929   2.0   0.092450       0.224287             1.0\n",
       "41    n         150  37383   3.0   0.073645       0.297932             1.0\n",
       "51    i         150  34745   4.0   0.068448       0.366380             1.0\n",
       "35    a         150  34500   5.0   0.067965       0.434345             1.0"
      ]
     },
     "execution_count": 36,
     "metadata": {},
     "output_type": "execute_result"
    }
   ],
   "source": [
    "word_count = count(df_ds['desc'])\n",
    "word_count.head()"
   ]
  },
  {
   "cell_type": "code",
   "execution_count": 37,
   "metadata": {},
   "outputs": [
    {
     "data": {
      "image/png": "[encoded data removed]",
      "text/plain": [
       "<Figure size 432x288 with 1 Axes>"
      ]
     },
     "metadata": {
      "needs_background": "light"
     },
     "output_type": "display_data"
    }
   ],
   "source": [
    "import squarify\n",
    "import matplotlib.pyplot as plt\n",
    "\n",
    "wc_top25 = word_count[word_count['rank'] >= 25]\n",
    "\n",
    "squarify.plot(sizes=wc_top25['pct_total'], label=wc_top25['word'], alpha=.8 )\n",
    "plt.axis('off')\n",
    "plt.show()"
   ]
  },
  {
   "cell_type": "markdown",
   "metadata": {
    "colab_type": "text",
    "id": "bwFsTqrVZMYi"
   },
   "source": [
    "## 5) Use Scikit-Learn's tfidfVectorizer to get a TF-IDF feature matrix"
   ]
  },
  {
   "cell_type": "code",
   "execution_count": 54,
   "metadata": {
    "colab": {},
    "colab_type": "code",
    "id": "-gx2gZCbl5Np"
   },
   "outputs": [
    {
     "data": {
      "text/html": [
       "<div>\n",
       "<style scoped>\n",
       "    .dataframe tbody tr th:only-of-type {\n",
       "        vertical-align: middle;\n",
       "    }\n",
       "\n",
       "    .dataframe tbody tr th {\n",
       "        vertical-align: top;\n",
       "    }\n",
       "\n",
       "    .dataframe thead th {\n",
       "        text-align: right;\n",
       "    }\n",
       "</style>\n",
       "<table border=\"1\" class=\"dataframe\">\n",
       "  <thead>\n",
       "    <tr style=\"text-align: right;\">\n",
       "      <th></th>\n",
       "      <th>ability</th>\n",
       "      <th>able</th>\n",
       "      <th>about</th>\n",
       "      <th>access</th>\n",
       "      <th>achieve</th>\n",
       "      <th>across</th>\n",
       "      <th>action</th>\n",
       "      <th>actionable</th>\n",
       "      <th>ad</th>\n",
       "      <th>advanced</th>\n",
       "      <th>...</th>\n",
       "      <th>x99re</th>\n",
       "      <th>x99s</th>\n",
       "      <th>xa2</th>\n",
       "      <th>xb7</th>\n",
       "      <th>xc2</th>\n",
       "      <th>xe2</th>\n",
       "      <th>year</th>\n",
       "      <th>years</th>\n",
       "      <th>you</th>\n",
       "      <th>your</th>\n",
       "    </tr>\n",
       "  </thead>\n",
       "  <tbody>\n",
       "    <tr>\n",
       "      <th>0</th>\n",
       "      <td>0.000000</td>\n",
       "      <td>0.0</td>\n",
       "      <td>0.00000</td>\n",
       "      <td>0.000000</td>\n",
       "      <td>0.0</td>\n",
       "      <td>0.000000</td>\n",
       "      <td>0.072188</td>\n",
       "      <td>0.0</td>\n",
       "      <td>0.0</td>\n",
       "      <td>0.000000</td>\n",
       "      <td>...</td>\n",
       "      <td>0.0</td>\n",
       "      <td>0.000000</td>\n",
       "      <td>0.000000</td>\n",
       "      <td>0.0</td>\n",
       "      <td>0.0</td>\n",
       "      <td>0.000000</td>\n",
       "      <td>0.076441</td>\n",
       "      <td>0.000000</td>\n",
       "      <td>0.000000</td>\n",
       "      <td>0.046171</td>\n",
       "    </tr>\n",
       "    <tr>\n",
       "      <th>1</th>\n",
       "      <td>0.000000</td>\n",
       "      <td>0.0</td>\n",
       "      <td>0.00000</td>\n",
       "      <td>0.000000</td>\n",
       "      <td>0.0</td>\n",
       "      <td>0.000000</td>\n",
       "      <td>0.000000</td>\n",
       "      <td>0.0</td>\n",
       "      <td>0.0</td>\n",
       "      <td>0.000000</td>\n",
       "      <td>...</td>\n",
       "      <td>0.0</td>\n",
       "      <td>0.000000</td>\n",
       "      <td>0.000000</td>\n",
       "      <td>0.0</td>\n",
       "      <td>0.0</td>\n",
       "      <td>0.164108</td>\n",
       "      <td>0.000000</td>\n",
       "      <td>0.154068</td>\n",
       "      <td>0.000000</td>\n",
       "      <td>0.000000</td>\n",
       "    </tr>\n",
       "    <tr>\n",
       "      <th>2</th>\n",
       "      <td>0.000000</td>\n",
       "      <td>0.0</td>\n",
       "      <td>0.00000</td>\n",
       "      <td>0.057949</td>\n",
       "      <td>0.0</td>\n",
       "      <td>0.035333</td>\n",
       "      <td>0.000000</td>\n",
       "      <td>0.0</td>\n",
       "      <td>0.0</td>\n",
       "      <td>0.000000</td>\n",
       "      <td>...</td>\n",
       "      <td>0.0</td>\n",
       "      <td>0.000000</td>\n",
       "      <td>0.000000</td>\n",
       "      <td>0.0</td>\n",
       "      <td>0.0</td>\n",
       "      <td>0.000000</td>\n",
       "      <td>0.000000</td>\n",
       "      <td>0.000000</td>\n",
       "      <td>0.000000</td>\n",
       "      <td>0.000000</td>\n",
       "    </tr>\n",
       "    <tr>\n",
       "      <th>3</th>\n",
       "      <td>0.046318</td>\n",
       "      <td>0.0</td>\n",
       "      <td>0.02413</td>\n",
       "      <td>0.000000</td>\n",
       "      <td>0.0</td>\n",
       "      <td>0.047465</td>\n",
       "      <td>0.000000</td>\n",
       "      <td>0.0</td>\n",
       "      <td>0.0</td>\n",
       "      <td>0.025398</td>\n",
       "      <td>...</td>\n",
       "      <td>0.0</td>\n",
       "      <td>0.000000</td>\n",
       "      <td>0.000000</td>\n",
       "      <td>0.0</td>\n",
       "      <td>0.0</td>\n",
       "      <td>0.000000</td>\n",
       "      <td>0.000000</td>\n",
       "      <td>0.017481</td>\n",
       "      <td>0.035951</td>\n",
       "      <td>0.000000</td>\n",
       "    </tr>\n",
       "    <tr>\n",
       "      <th>4</th>\n",
       "      <td>0.000000</td>\n",
       "      <td>0.0</td>\n",
       "      <td>0.01632</td>\n",
       "      <td>0.026326</td>\n",
       "      <td>0.0</td>\n",
       "      <td>0.016052</td>\n",
       "      <td>0.000000</td>\n",
       "      <td>0.0</td>\n",
       "      <td>0.0</td>\n",
       "      <td>0.017178</td>\n",
       "      <td>...</td>\n",
       "      <td>0.0</td>\n",
       "      <td>0.030343</td>\n",
       "      <td>0.656168</td>\n",
       "      <td>0.0</td>\n",
       "      <td>0.0</td>\n",
       "      <td>0.289666</td>\n",
       "      <td>0.025520</td>\n",
       "      <td>0.023647</td>\n",
       "      <td>0.024316</td>\n",
       "      <td>0.000000</td>\n",
       "    </tr>\n",
       "  </tbody>\n",
       "</table>\n",
       "<p>5 rows × 500 columns</p>\n",
       "</div>"
      ],
      "text/plain": [
       "    ability  able    about    access  achieve    across    action  actionable  \\\n",
       "0  0.000000   0.0  0.00000  0.000000      0.0  0.000000  0.072188         0.0   \n",
       "1  0.000000   0.0  0.00000  0.000000      0.0  0.000000  0.000000         0.0   \n",
       "2  0.000000   0.0  0.00000  0.057949      0.0  0.035333  0.000000         0.0   \n",
       "3  0.046318   0.0  0.02413  0.000000      0.0  0.047465  0.000000         0.0   \n",
       "4  0.000000   0.0  0.01632  0.026326      0.0  0.016052  0.000000         0.0   \n",
       "\n",
       "    ad  advanced  ...  x99re      x99s       xa2  xb7  xc2       xe2  \\\n",
       "0  0.0  0.000000  ...    0.0  0.000000  0.000000  0.0  0.0  0.000000   \n",
       "1  0.0  0.000000  ...    0.0  0.000000  0.000000  0.0  0.0  0.164108   \n",
       "2  0.0  0.000000  ...    0.0  0.000000  0.000000  0.0  0.0  0.000000   \n",
       "3  0.0  0.025398  ...    0.0  0.000000  0.000000  0.0  0.0  0.000000   \n",
       "4  0.0  0.017178  ...    0.0  0.030343  0.656168  0.0  0.0  0.289666   \n",
       "\n",
       "       year     years       you      your  \n",
       "0  0.076441  0.000000  0.000000  0.046171  \n",
       "1  0.000000  0.154068  0.000000  0.000000  \n",
       "2  0.000000  0.000000  0.000000  0.000000  \n",
       "3  0.000000  0.017481  0.035951  0.000000  \n",
       "4  0.025520  0.023647  0.024316  0.000000  \n",
       "\n",
       "[5 rows x 500 columns]"
      ]
     },
     "execution_count": 54,
     "metadata": {},
     "output_type": "execute_result"
    }
   ],
   "source": [
    "from sklearn.feature_extraction.text import TfidfVectorizer\n",
    "\n",
    "# Instantiate vectorizer object\n",
    "tfidf = TfidfVectorizer(max_features=500)\n",
    "\n",
    "# Create a vocabulary and get word counts per document\n",
    "# Similiar to fit_predict\n",
    "dtm1 = tfidf.fit_transform(data)\n",
    "\n",
    "# Print word counts\n",
    "\n",
    "# Get feature names to use as dataframe column headers\n",
    "dtm1 = pd.DataFrame(dtm1.todense(), columns=tfidf.get_feature_names())\n",
    "\n",
    "# View Feature Matrix as DataFrame\n",
    "dtm1.head()"
   ]
  },
  {
   "cell_type": "markdown",
   "metadata": {},
   "source": [
    "### Extracting Lemmas for Model"
   ]
  },
  {
   "cell_type": "code",
   "execution_count": 42,
   "metadata": {},
   "outputs": [],
   "source": [
    "df_ds = df_ds.drop(['description', 'desc1'], axis=1)"
   ]
  },
  {
   "cell_type": "code",
   "execution_count": 43,
   "metadata": {},
   "outputs": [
    {
     "data": {
      "text/html": [
       "<div>\n",
       "<style scoped>\n",
       "    .dataframe tbody tr th:only-of-type {\n",
       "        vertical-align: middle;\n",
       "    }\n",
       "\n",
       "    .dataframe tbody tr th {\n",
       "        vertical-align: top;\n",
       "    }\n",
       "\n",
       "    .dataframe thead th {\n",
       "        text-align: right;\n",
       "    }\n",
       "</style>\n",
       "<table border=\"1\" class=\"dataframe\">\n",
       "  <thead>\n",
       "    <tr style=\"text-align: right;\">\n",
       "      <th></th>\n",
       "      <th>title</th>\n",
       "      <th>desc</th>\n",
       "    </tr>\n",
       "  </thead>\n",
       "  <tbody>\n",
       "    <tr>\n",
       "      <th>3</th>\n",
       "      <td>Data Scientist</td>\n",
       "      <td>b'$4,969 - $6,756 a monthContractUnder the gen...</td>\n",
       "    </tr>\n",
       "    <tr>\n",
       "      <th>4</th>\n",
       "      <td>Data Scientist</td>\n",
       "      <td>b'Location: USA \\xe2\\x80\\x93 multiple location...</td>\n",
       "    </tr>\n",
       "    <tr>\n",
       "      <th>5</th>\n",
       "      <td>Data Scientist</td>\n",
       "      <td>b'Create various Business Intelligence Analyti...</td>\n",
       "    </tr>\n",
       "    <tr>\n",
       "      <th>7</th>\n",
       "      <td>Data Scientist</td>\n",
       "      <td>b\"Everytown for Gun Safety, the nation's large...</td>\n",
       "    </tr>\n",
       "    <tr>\n",
       "      <th>12</th>\n",
       "      <td>Data Scientist</td>\n",
       "      <td>b\"nfosys\\xe2\\x80\\x93 Data &amp; Analytics \\xe2\\x80...</td>\n",
       "    </tr>\n",
       "  </tbody>\n",
       "</table>\n",
       "</div>"
      ],
      "text/plain": [
       "             title                                               desc\n",
       "3   Data Scientist  b'$4,969 - $6,756 a monthContractUnder the gen...\n",
       "4   Data Scientist  b'Location: USA \\xe2\\x80\\x93 multiple location...\n",
       "5   Data Scientist  b'Create various Business Intelligence Analyti...\n",
       "7   Data Scientist  b\"Everytown for Gun Safety, the nation's large...\n",
       "12  Data Scientist  b\"nfosys\\xe2\\x80\\x93 Data & Analytics \\xe2\\x80..."
      ]
     },
     "execution_count": 43,
     "metadata": {},
     "output_type": "execute_result"
    }
   ],
   "source": [
    "df_ds.head()"
   ]
  },
  {
   "cell_type": "code",
   "execution_count": 39,
   "metadata": {},
   "outputs": [],
   "source": [
    "def get_lemmas(doc):\n",
    "    \n",
    "    lemmas = []\n",
    "    doc = nlp(doc)\n",
    "    \n",
    "    for token in doc:\n",
    "        if (token.is_stop != True) & (token.is_punct != True) & (token.is_digit != True):\n",
    "            lemmas.append(token.lemma_)\n",
    "    \n",
    "    return lemmas"
   ]
  },
  {
   "cell_type": "code",
   "execution_count": 44,
   "metadata": {},
   "outputs": [],
   "source": [
    "# Extracting Lemmas from Column\n",
    "\n",
    "df_ds['lemmas'] = df_ds['desc'].apply(get_lemmas)"
   ]
  },
  {
   "cell_type": "code",
   "execution_count": 45,
   "metadata": {},
   "outputs": [
    {
     "data": {
      "text/html": [
       "<div>\n",
       "<style scoped>\n",
       "    .dataframe tbody tr th:only-of-type {\n",
       "        vertical-align: middle;\n",
       "    }\n",
       "\n",
       "    .dataframe tbody tr th {\n",
       "        vertical-align: top;\n",
       "    }\n",
       "\n",
       "    .dataframe thead th {\n",
       "        text-align: right;\n",
       "    }\n",
       "</style>\n",
       "<table border=\"1\" class=\"dataframe\">\n",
       "  <thead>\n",
       "    <tr style=\"text-align: right;\">\n",
       "      <th></th>\n",
       "      <th>title</th>\n",
       "      <th>desc</th>\n",
       "      <th>lemmas</th>\n",
       "    </tr>\n",
       "  </thead>\n",
       "  <tbody>\n",
       "    <tr>\n",
       "      <th>3</th>\n",
       "      <td>Data Scientist</td>\n",
       "      <td>b'$4,969 - $6,756 a monthContractUnder the gen...</td>\n",
       "      <td>[b'$4,969, $, 6,756, monthcontractunder, gener...</td>\n",
       "    </tr>\n",
       "    <tr>\n",
       "      <th>4</th>\n",
       "      <td>Data Scientist</td>\n",
       "      <td>b'Location: USA \\xe2\\x80\\x93 multiple location...</td>\n",
       "      <td>[b'Location, USA, \\xe2\\x80\\x93, multiple, loca...</td>\n",
       "    </tr>\n",
       "    <tr>\n",
       "      <th>5</th>\n",
       "      <td>Data Scientist</td>\n",
       "      <td>b'Create various Business Intelligence Analyti...</td>\n",
       "      <td>[b'Create, Business, Intelligence, Analytical,...</td>\n",
       "    </tr>\n",
       "    <tr>\n",
       "      <th>7</th>\n",
       "      <td>Data Scientist</td>\n",
       "      <td>b\"Everytown for Gun Safety, the nation's large...</td>\n",
       "      <td>[b\"Everytown, Gun, Safety, nation, large, gun,...</td>\n",
       "    </tr>\n",
       "    <tr>\n",
       "      <th>12</th>\n",
       "      <td>Data Scientist</td>\n",
       "      <td>b\"nfosys\\xe2\\x80\\x93 Data &amp; Analytics \\xe2\\x80...</td>\n",
       "      <td>[b\"nfosys\\xe2\\x80\\x93, Data, Analytics, \\xe2\\x...</td>\n",
       "    </tr>\n",
       "  </tbody>\n",
       "</table>\n",
       "</div>"
      ],
      "text/plain": [
       "             title                                               desc  \\\n",
       "3   Data Scientist  b'$4,969 - $6,756 a monthContractUnder the gen...   \n",
       "4   Data Scientist  b'Location: USA \\xe2\\x80\\x93 multiple location...   \n",
       "5   Data Scientist  b'Create various Business Intelligence Analyti...   \n",
       "7   Data Scientist  b\"Everytown for Gun Safety, the nation's large...   \n",
       "12  Data Scientist  b\"nfosys\\xe2\\x80\\x93 Data & Analytics \\xe2\\x80...   \n",
       "\n",
       "                                               lemmas  \n",
       "3   [b'$4,969, $, 6,756, monthcontractunder, gener...  \n",
       "4   [b'Location, USA, \\xe2\\x80\\x93, multiple, loca...  \n",
       "5   [b'Create, Business, Intelligence, Analytical,...  \n",
       "7   [b\"Everytown, Gun, Safety, nation, large, gun,...  \n",
       "12  [b\"nfosys\\xe2\\x80\\x93, Data, Analytics, \\xe2\\x...  "
      ]
     },
     "execution_count": 45,
     "metadata": {},
     "output_type": "execute_result"
    }
   ],
   "source": [
    "df_ds.head()"
   ]
  },
  {
   "cell_type": "markdown",
   "metadata": {},
   "source": [
    "## 6) Create a NearestNeighbor Model. Write the description of your ideal datascience job and query your job listings. "
   ]
  },
  {
   "cell_type": "code",
   "execution_count": 55,
   "metadata": {
    "inputHidden": false,
    "jupyter": {
     "outputs_hidden": false
    },
    "outputHidden": false
   },
   "outputs": [
    {
     "data": {
      "text/plain": [
       "NearestNeighbors(algorithm='kd_tree', leaf_size=30, metric='minkowski',\n",
       "                 metric_params=None, n_jobs=None, n_neighbors=10, p=2,\n",
       "                 radius=1.0)"
      ]
     },
     "execution_count": 55,
     "metadata": {},
     "output_type": "execute_result"
    }
   ],
   "source": [
    "from sklearn.neighbors import NearestNeighbors\n",
    "\n",
    "# Fitting on DTM\n",
    "nn = NearestNeighbors(n_neighbors=10, algorithm='kd_tree')\n",
    "nn.fit(dtm1)"
   ]
  },
  {
   "cell_type": "code",
   "execution_count": 56,
   "metadata": {},
   "outputs": [],
   "source": [
    "test_jd = [\"Based in Washington State, our company is looking for dynamic and passionate Data Scientists with backgrounds in other industries mainly finance and retail, to join our team. Our company focuses on defense and intelligence related data processing.\"]\n",
    "test_jd = tfidf.transform(test_jd)"
   ]
  },
  {
   "cell_type": "code",
   "execution_count": 86,
   "metadata": {},
   "outputs": [
    {
     "data": {
      "text/plain": [
       "array([[134,  80, 104,  83,  42, 123, 122, 132, 143, 114]], dtype=int64)"
      ]
     },
     "execution_count": 86,
     "metadata": {},
     "output_type": "execute_result"
    }
   ],
   "source": [
    "results = nn.kneighbors(test_jd.todense())\n",
    "results = results[1]\n",
    "results"
   ]
  },
  {
   "cell_type": "code",
   "execution_count": 98,
   "metadata": {},
   "outputs": [
    {
     "data": {
      "text/plain": [
       "2"
      ]
     },
     "execution_count": 98,
     "metadata": {},
     "output_type": "execute_result"
    }
   ],
   "source": [
    "results.ndim"
   ]
  },
  {
   "cell_type": "code",
   "execution_count": 66,
   "metadata": {},
   "outputs": [
    {
     "data": {
      "text/plain": [
       "'b\"Are you passionate about using the power of technology to build community? Do you believe residents can strengthen their neighborhoods through dialog and collaboration? Would you like to join a transformative company and play a meaningful role in shaping its future? If so, we\\'d love to meet you.\\\\n\\\\nWe are looking to hire an experienced Data Scientist to join our team. In this role, you\\'ll focus on questions centering around identity, security, and community health. You\\'ll help determine what data should be tracked and work with Product and Engineering to implement your vision. You will also be part of the team responsible for building and scaling our data infrastructure that will be the foundation of analytics and data science around our unique data set. You\\'ll directly contribute to scaling our analytical abilities and will help lead us to the future of data at Nextdoor.\\\\n\\\\nResponsibilities:\\\\n\\\\nConduct in-depth analysis on Nextdoor data, analyzing community growth, platform engagement, and trust and & safety questions.\\\\nPartner with cross-functional teams to support product development efforts (including product, design, engineering, marketing, operations, and sales)\\\\nDevelop and socialize best practices around metric development, A/B testing and experimentation, usage tracking and instrumentation\\\\nDrive self-service for our data platform by creating and documenting data structures and sets, SQL and data tools training, and dashboard development\\\\nDevelop and share key strategic insights through data analysis, visualization, and story-telling\\\\nCreate and optimize statistical models and algorithms to help drive product and strategic decision-making\\\\nCare deeply about data quality and empowering employees to leverage data to help them succeed in their careers and help Nextdoor grow and succeed\\\\n\\\\nRequirements:\\\\n\\\\nAdvanced degree in a quantitative field, or equivalent (3+ years) experience working in data\\\\nExpert knowledge of SQL\\\\nFamiliarity with Python/Pandas, R, or some other computation analysis software\\\\nExperience effectively presenting insights and summarizing complex data to diverse audiences through visualizations and other means\\\\nAbility to understand, tackle, and communicate problems from both technical and business perspectives\\\\nInnate curiosity around finding meaningful insights that inform the way we think about and develop both our product and our business strategies\\\\n\\\\nBenefits:\\\\n\\\\n100% company-paid health insurance premiums (medical, dental, and vision) for you and your dependents\\\\nPaid vacation and company holidays\\\\nFree catered dinners Monday through Thursday and catered lunch on Wednesdays\\\\nMonthly gym stipend\\\\nOne time cell phone & headphone stipend\\\\nAnnual learning and development stipend\\\\nTwo paid volunteer days off\\\\nPre-tax commuter benefits\\\\nFully stocked kitchen with drinks, snacks and candy\\\\nLa Marzocco espresso machine with Blue Bottle coffee\\\\nHealth FSA\\\\n401K plan\\\\n\\\\n\"'"
      ]
     },
     "execution_count": 66,
     "metadata": {},
     "output_type": "execute_result"
    }
   ],
   "source": [
    "data[134]"
   ]
  },
  {
   "cell_type": "code",
   "execution_count": 101,
   "metadata": {},
   "outputs": [
    {
     "data": {
      "text/plain": [
       "'b\"About the Company\\\\n\\\\nEyeview is a video marketing technology company and the industry leader in outcome-based video marketing. Eyeview delivers superior return on investment through 1-to-1 video. Through our proprietary VideoIQ\\\\xc2\\\\xae technology, Eyeview easily leverages brand, product and consumer data to create and deliver 1-to-1 video ads to every consumer and ultimately drive sales. VideoIQ\\\\xc2\\\\xae provides an elemental knowledge of video variables that powers a results-driven decisioning engine, capable of making billions of decisions each day, delivering the most relevant message to every consumer across connected television, desktop, mobile and Facebook.\\\\n\\\\nHeadquartered in New York City, with offices in LA and Chicago, Eyeview serves the nation\\'s top brands and was ranked as the 2nd fastest growing company in the Tri-State Area by Deloitte\\'s Technology Fast 500TM.\\\\n\\\\nAbout the Role\\\\n\\\\nEyeview is looking for a Data Scientist to join our Data Science team working on research, development, and implementation of models, algorithms, and systems for our video personalization platform. This is an exciting opportunity to leverage our dynamic video rendering technology and create a real impact in the video advertising industry. In addition, the data scientist will also work with the data engineers and campaign analytics team to evolve an existing campaign modeling platform as well as participate in brainstorming sessions to create new product offerings. This role will sit in our New York HQ. The ideal candidate enjoys working across multiple disciplines and functional teams, has excellent written and verbal communication skills, and can maintain a business perspective.\\\\n\\\\nResponsibilities\\\\n\\\\n\\\\nResearch and develop real-time bidding strategies to meet a variety of campaign goals\\\\nDevelop algorithms in dealing with external shocks, such as sudden market condition changes, system instabilities or campaign changes\\\\nWork with data engineers and analytics team on creating and evolving a modeling platform for scalable campaign modeling\\\\nWork with media managers to ensure campaign metrics are met\\\\n\\\\nRequired Skills\\\\n\\\\n\\\\nPhD degree or MS degree in a quantitative field or exceptional BS degree holders with 3-5 years work experience in analytics and data science roles will also be considered\\\\nStrong applied statistics background is required\\\\nBuzzwords: Bayesian methods, Monte Carlo methods, bootstrapping, regression and time series analysis, hypothesis testing, etc.\\\\nMachine learning experience is preferred, however strong applicants with only academic experience will also be considered\\\\nProgramming\\\\nPython along with experience in the various machine learning, scientific computing, and data visualization libraries (numpy, scipy, sklearn, pandas, matplotlib, seaborn, keras, etc)\\\\nSQL\\\\nFamiliarity with AWS is preferred\\\\nJava, Scala are plusses\\\\nSoftware engineering experience is a plus\\\\nCapable of changing linguistic contexts --- can you explain Mahalanobis distance to a group of people with a diverse education background?\\\\nCandidates with at least 2-4 years work experience in the video adtech industry are strongly preferred\\\\n\\\\nPerks & Benefits:\\\\n\\\\nUnlimited Vacation Policy, Medical, Dental & Vision Benefits, 401K, Cell Phone Reimbursement, Employee Stock Purchase Plan, Free drinks & snacks, Sports teams, Catered Company lunches every Friday.\\\\n\\\\nEyeview provides equal employment opportunities (EEO) to all employees and applicants for employment without regard to race, color, religion, sex, national origin, age, disability or genetics. In addition to federal law requirements, Eyeview complies with applicable state and local laws governing nondiscrimination in employment in every location in which the company has facilities. This policy applies to all terms and conditions of employment, including recruiting, hiring, placement, promotion, termination, layoff, recall, transfer, leaves of absence, compensation and training.\\\\n\\\\nEyeview expressly prohibits any form of workplace harassment based on race, color, religion, gender, sexual orientation, gender identity or expression, national origin, age, genetic information, disability, or veteran status. Improper interference with the ability of Eyeview\\'s employees to perform their job duties may result in discipline up to and including discharge.\"'"
      ]
     },
     "execution_count": 101,
     "metadata": {},
     "output_type": "execute_result"
    }
   ],
   "source": [
    "data[80]"
   ]
  },
  {
   "cell_type": "markdown",
   "metadata": {
    "colab_type": "text",
    "id": "FiDfTWceoRkH"
   },
   "source": [
    "## Stretch Goals\n",
    "\n",
    " - Try different visualizations for words and frequencies - what story do you want to tell with the data?\n",
    " - Scrape Job Listings for the job title \"Data Analyst\". How do these differ from Data Scientist Job Listings\n",
    " - Try and identify requirements for experience specific technologies that are asked for in the job listings. How are those distributed among the job listings?\n",
    " - Use a clustering algorithm to cluster documents by their most important terms. Do the clusters reveal any common themes?\n",
    "  - **Hint:** K-means might not be the best algorithm for this. Do a little bit of research to see what might be good for this. Also, remember that algorithms that depend on Euclidean distance break down with high dimensional data.\n",
    " - Create a labeled dataset - which jobs will you apply for? Train a model to select the jobs you are most likely to apply for. :) "
   ]
  }
 ],
 "metadata": {
  "colab": {
   "collapsed_sections": [],
   "name": "LS_DS_422_BOW_Assignment.ipynb",
   "provenance": [],
   "version": "0.3.2"
  },
  "kernel_info": {
   "name": "python3"
  },
  "kernelspec": {
   "display_name": "U4-S1-NLP (Python3)",
   "language": "python",
   "name": "u4-s1-nlp"
  },
  "language_info": {
   "codemirror_mode": {
    "name": "ipython",
    "version": 3
   },
   "file_extension": ".py",
   "mimetype": "text/x-python",
   "name": "python",
   "nbconvert_exporter": "python",
   "pygments_lexer": "ipython3",
   "version": "3.7.0"
  },
  "nteract": {
   "version": "0.14.3"
  }
 },
 "nbformat": 4,
 "nbformat_minor": 4
}
